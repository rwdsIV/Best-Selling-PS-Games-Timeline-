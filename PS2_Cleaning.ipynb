{
  "nbformat": 4,
  "nbformat_minor": 0,
  "metadata": {
    "colab": {
      "provenance": []
    },
    "kernelspec": {
      "name": "python3",
      "display_name": "Python 3"
    },
    "language_info": {
      "name": "python"
    }
  },
  "cells": [
    {
      "cell_type": "code",
      "execution_count": null,
      "metadata": {
        "id": "rC9t4u1oVtB_"
      },
      "outputs": [],
      "source": [
        "def clean(p):\n",
        "  avoid = [\"m\", \"i\", \"l\", \"o\", \"n\", \"[\", \"a\", \"b\", \"c\", \"d\", \"e\", \"f\", \"g\", \"h\", \"i\", \"j\",\"k\",\"l\",\"m\",\"n\",\"o\",\"p\",\"q\",\"r\",\"s\",\"t\",\"u\",\"v\",\"w\",\"x\",\"y\",\"z\"]\n",
        "  avoid_update = []\n",
        "  conv = \"\"\n",
        "  for ch in p[:-11]:\n",
        "    if ch in avoid:\n",
        "      avoid_update.append(ch)\n",
        "    else:\n",
        "      conv += ch\n",
        "  return float(conv)\n",
        "\n",
        "raw_ps2_data[\"Copies Sold\"] = raw_ps2_data[\"Copies Sold\"].apply(clean)\n",
        "raw_ps2_data"
      ]
    },
    {
      "cell_type": "markdown",
      "source": [
        "This cleans up the \"Copies Sold\" section of the dataframe. It does this by initially creating parameters for characters to avoid and updated with the removed variables, and uses conv for our values which are currently strings. It is indexed -11 because we are conservatively assuming the length of the word \"million\" and the references next to each numeric entry. The avoid section is there for any extra cleanup. This is converted to a floating point number because each value is represented as a decimal, and this will be valuable for plotting our datapoints later."
      ],
      "metadata": {
        "id": "x7_wkjJ-V5m0"
      }
    },
    {
      "cell_type": "code",
      "source": [
        "def right_length(d):\n",
        "    dif = len(d) - 4\n",
        "    for ch in d:\n",
        "        if len(d) > 4:\n",
        "            return int(d[dif:])\n",
        "        else:\n",
        "            return int(d)\n",
        "\n",
        "raw_ps2_data[\"Release Date\"] = raw_ps2_data[\"Release Date\"].apply(right_length)\n",
        "raw_ps2_data"
      ],
      "metadata": {
        "id": "4sghRPmNWBDJ"
      },
      "execution_count": null,
      "outputs": []
    },
    {
      "cell_type": "markdown",
      "source": [
        "This code breaks down our release dates to turn them into valid numeric values. Initially, they were written out with months, days and years. However, for plotting, they must be integers later. Since we know that a year should be 4 digits long, we are asserting that if the length of the release date is greater than 4, then we should only keep the last 4 characters. This cleans up our data and helps with converting it into valid integers."
      ],
      "metadata": {
        "id": "RcpWiwxwWDRl"
      }
    },
    {
      "cell_type": "code",
      "source": [
        "raw_ps2_data[\"Release Date\"].describe()"
      ],
      "metadata": {
        "id": "ZZa86QWxWHnj"
      },
      "execution_count": null,
      "outputs": []
    }
  ]
}