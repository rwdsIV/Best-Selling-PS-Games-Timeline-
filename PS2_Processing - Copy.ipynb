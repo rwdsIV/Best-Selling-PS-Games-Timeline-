{
  "nbformat": 4,
  "nbformat_minor": 0,
  "metadata": {
    "colab": {
      "provenance": []
    },
    "kernelspec": {
      "name": "python3",
      "display_name": "Python 3"
    },
    "language_info": {
      "name": "python"
    }
  },
  "cells": [
    {
      "cell_type": "code",
      "execution_count": null,
      "metadata": {
        "id": "thw3Vh_-VJpn"
      },
      "outputs": [],
      "source": [
        "import pandas as pd\n",
        "import numpy as np\n",
        "from matplotlib import pyplot as plt\n",
        "from bs4 import BeautifulSoup\n",
        "import scipy\n",
        "import requests"
      ]
    },
    {
      "cell_type": "code",
      "source": [
        "open_webpage = requests.get(\"https://en.wikipedia.org/wiki/List_of_best-selling_PlayStation_2_video_games\")\n",
        "print(\"Webpage Open\")\n",
        "print(open_webpage.content)\n",
        "\n",
        "bs = BeautifulSoup (open_webpage.content, \"html.parser\")\n",
        "print(\"Loaded and parsed\")"
      ],
      "metadata": {
        "id": "fnW8HEgtVMu0"
      },
      "execution_count": null,
      "outputs": []
    },
    {
      "cell_type": "code",
      "source": [
        "raw_data = []\n",
        "\n",
        "tables = bs.find_all(\"table\")\n",
        "\n",
        "for table in tables[1:]:\n",
        "  row_data = []\n",
        "  for row in table.find_all('tr'):\n",
        "    cells = row.find_all('td')\n",
        "    if len(cells) == 6:\n",
        "        row_data.append([cells[0].text.strip(),cells[1].text.strip(), cells[2].text.strip(), cells[3].text.strip(), cells[4].text.strip(), cells[5].text.strip()])\n",
        "  raw_data.append(row_data)\n",
        "\n",
        "clean_data = []\n",
        "\n",
        "for i in raw_data:\n",
        "  if len(i) > 0:\n",
        "    clean_data.append(i)\n",
        "print(clean_data)"
      ],
      "metadata": {
        "id": "HRHhIizMVP2V"
      },
      "execution_count": null,
      "outputs": []
    },
    {
      "cell_type": "code",
      "source": [
        "column_names = [\"Game\", \"Copies Sold\", \"Release Date\", \"Genres\", \"Developers\", \"Publishers\"]\n",
        "\n",
        "for ps2_data in clean_data:\n",
        "  ps2_row = []\n",
        "  for entry in ps2_data:\n",
        "    value = entry\n",
        "    ps2_row.append(entry)\n",
        "print(ps2_row)"
      ],
      "metadata": {
        "id": "153Oetk_VSZm"
      },
      "execution_count": null,
      "outputs": []
    },
    {
      "cell_type": "code",
      "source": [
        "raw_ps2_data = pd.DataFrame(ps2_row, columns = column_names)\n",
        "\n",
        "raw_ps2_data.head()"
      ],
      "metadata": {
        "id": "aHMBgSdAVUOK"
      },
      "execution_count": null,
      "outputs": []
    },
    {
      "cell_type": "code",
      "source": [
        "raw_ps2_data.to_csv(\"raw_ps2_data.csv\")"
      ],
      "metadata": {
        "id": "sZJfODHTVcEn"
      },
      "execution_count": null,
      "outputs": []
    },
    {
      "cell_type": "code",
      "source": [
        "raw_ps2_data.info()"
      ],
      "metadata": {
        "id": "u7MqrlWxXcOI"
      },
      "execution_count": null,
      "outputs": []
    }
  ]
}