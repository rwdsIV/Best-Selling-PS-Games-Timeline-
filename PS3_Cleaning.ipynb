{
  "nbformat": 4,
  "nbformat_minor": 0,
  "metadata": {
    "colab": {
      "provenance": []
    },
    "kernelspec": {
      "name": "python3",
      "display_name": "Python 3"
    },
    "language_info": {
      "name": "python"
    }
  },
  "cells": [
    {
      "cell_type": "code",
      "execution_count": null,
      "metadata": {
        "id": "mBwo2hhaWk6M"
      },
      "outputs": [],
      "source": [
        "def clean(p):\n",
        "  avoid = [\"m\", \"i\", \"l\", \"o\", \"n\", \"[\", \"a\", \"b\", \"c\", \"d\", \"e\", \"f\", \"g\", \"h\", \"i\", \"j\",\"k\",\"l\",\"m\",\"n\",\"o\",\"p\",\"q\",\"r\",\"s\",\"t\",\"u\",\"v\",\"w\",\"x\",\"y\",\"z\", \"~\"]\n",
        "  avoid_update = []\n",
        "  conv = \"\"\n",
        "  for ch in p[:-11]:\n",
        "    if ch in avoid:\n",
        "      avoid_update.append(ch)\n",
        "    else:\n",
        "      conv += ch\n",
        "  return float(conv)\n",
        "\n",
        "raw_ps3_data[\"Copies Sold\"] = raw_ps3_data[\"Copies Sold\"].apply(clean)\n",
        "raw_ps3_data"
      ]
    },
    {
      "cell_type": "code",
      "source": [
        "raw_ps3_data[\"Copies Sold\"].describe()"
      ],
      "metadata": {
        "id": "FncTaVXFWpki"
      },
      "execution_count": null,
      "outputs": []
    },
    {
      "cell_type": "markdown",
      "source": [
        "Descriptive analysis/statistics: This is an important distinction between the playstation 2 data and the playstation 3 data. While there were fewer games created, the average is 4.11 million compared to the playstation 2's 2.4 million. This is likely due to the outlier of Grand Theft Auto 5, which has a staggering 29.5 million copies sold."
      ],
      "metadata": {
        "id": "kUE_5QwaW4ds"
      }
    },
    {
      "cell_type": "code",
      "source": [
        "def right_length(d):\n",
        "    dif = len(d) - 4\n",
        "    for ch in d:\n",
        "        if len(d) > 4:\n",
        "            return int(d[dif:])\n",
        "        else:\n",
        "            return int(d)\n",
        "\n",
        "raw_ps3_data[\"Release Date\"] = raw_ps3_data[\"Release Date\"].apply(right_length)\n",
        "raw_ps3_data"
      ],
      "metadata": {
        "id": "4gM3YXULW2RQ"
      },
      "execution_count": null,
      "outputs": []
    },
    {
      "cell_type": "code",
      "source": [
        "raw_ps3_data[\"Release Date\"].describe()"
      ],
      "metadata": {
        "id": "QD6ghBCPXAz2"
      },
      "execution_count": null,
      "outputs": []
    },
    {
      "cell_type": "markdown",
      "source": [
        "This shows that the earliest year for the playstation 3 data is 2006. There is overlap with the playstation 2 data which ends in 2007. This also shows that the latest year is 2014. There is likely to be an overlap between console generations since games are often produced for previous and contemporary generations until the previous generation is entirely obsolete about two years after the release of the newest console."
      ],
      "metadata": {
        "id": "63IEZYQhXCSb"
      }
    }
  ]
}