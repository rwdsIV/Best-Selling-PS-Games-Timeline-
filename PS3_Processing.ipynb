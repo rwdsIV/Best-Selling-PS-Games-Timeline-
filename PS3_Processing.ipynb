{
  "nbformat": 4,
  "nbformat_minor": 0,
  "metadata": {
    "colab": {
      "provenance": []
    },
    "kernelspec": {
      "name": "python3",
      "display_name": "Python 3"
    },
    "language_info": {
      "name": "python"
    }
  },
  "cells": [
    {
      "cell_type": "code",
      "execution_count": null,
      "metadata": {
        "id": "101OffrbWQMl"
      },
      "outputs": [],
      "source": [
        "open_webpage = requests.get(\"https://en.wikipedia.org/wiki/List_of_best-selling_PlayStation_3_video_games\")\n",
        "print(\"Webpage Open\")\n",
        "print(open_webpage.content)\n",
        "\n",
        "bs = BeautifulSoup (open_webpage.content, \"html.parser\")\n",
        "print(\"Loaded and parsed\")"
      ]
    },
    {
      "cell_type": "code",
      "source": [
        "raw_data = []\n",
        "\n",
        "tables = bs.find_all(\"table\")\n",
        "\n",
        "for table in tables[1:]:\n",
        "  row_data = []\n",
        "  for row in table.find_all('tr'):\n",
        "    cells = row.find_all('td')\n",
        "    if len(cells) == 6:\n",
        "        row_data.append([cells[0].text.strip(),cells[1].text.strip(), cells[2].text.strip(), cells[3].text.strip(), cells[4].text.strip(), cells[5].text.strip()])\n",
        "  raw_data.append(row_data)\n",
        "\n",
        "clean_data = []\n",
        "\n",
        "for i in raw_data:\n",
        "  if len(i) > 0:\n",
        "    clean_data.append(i)\n",
        "print(clean_data)"
      ],
      "metadata": {
        "id": "9OXYE71pWTys"
      },
      "execution_count": null,
      "outputs": []
    },
    {
      "cell_type": "code",
      "source": [
        "column_names = [\"Game\", \"Copies Sold\", \"Release Date\", \"Genres\", \"Developers\", \"Publishers\"]\n",
        "\n",
        "for ps3_data in clean_data:\n",
        "  ps3_row = []\n",
        "  for entry in ps3_data:\n",
        "    value = entry\n",
        "    ps3_row.append(entry)\n",
        "print(ps3_row)"
      ],
      "metadata": {
        "id": "2gv0S1OSWV2z"
      },
      "execution_count": null,
      "outputs": []
    },
    {
      "cell_type": "code",
      "source": [
        "raw_ps3_data = pd.DataFrame(ps3_row, columns = column_names)\n",
        "\n",
        "raw_ps3_data.head()"
      ],
      "metadata": {
        "id": "C9KfDkEFWYAB"
      },
      "execution_count": null,
      "outputs": []
    },
    {
      "cell_type": "code",
      "source": [
        "raw_ps3_data.to_csv(\"raw_ps3_data.csv\")"
      ],
      "metadata": {
        "id": "66KotlthWZ8-"
      },
      "execution_count": null,
      "outputs": []
    },
    {
      "cell_type": "code",
      "source": [
        "raw_ps3_data.info()"
      ],
      "metadata": {
        "id": "UNs83PVGXgm_"
      },
      "execution_count": null,
      "outputs": []
    }
  ]
}