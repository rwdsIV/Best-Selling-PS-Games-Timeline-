{
  "nbformat": 4,
  "nbformat_minor": 0,
  "metadata": {
    "colab": {
      "provenance": []
    },
    "kernelspec": {
      "name": "python3",
      "display_name": "Python 3"
    },
    "language_info": {
      "name": "python"
    }
  },
  "cells": [
    {
      "cell_type": "code",
      "execution_count": null,
      "metadata": {
        "id": "B56kc4TsX6Uo"
      },
      "outputs": [],
      "source": [
        "def clean(p):\n",
        "  avoid = [\"m\", \"i\", \"l\", \"o\", \"n\", \"[\", \"a\", \"b\", \"c\", \"d\", \"e\", \"f\", \"g\", \"h\", \"i\", \"j\",\"k\",\"l\",\"m\",\"n\",\"o\",\"p\",\"q\",\"r\",\"s\",\"t\",\"u\",\"v\",\"w\",\"x\",\"y\",\"z\", \"]\"]\n",
        "  avoid_update = []\n",
        "  conv = \"\"\n",
        "  for ch in p[:-11]:\n",
        "    if ch in avoid:\n",
        "      avoid_update.append(ch)\n",
        "    else:\n",
        "      conv += ch\n",
        "  return conv\n",
        "\n",
        "raw_ps4_data[\"Copies Sold\"] = raw_ps4_data[\"Copies Sold\"].apply(clean)\n",
        "raw_ps4_data"
      ]
    },
    {
      "cell_type": "code",
      "source": [
        "def right_length(d):\n",
        "    for ch in range(len(d)):\n",
        "        if len(d) > 4:\n",
        "            return float(d[:3])\n",
        "        else:\n",
        "          return float(d)\n",
        "\n",
        "raw_ps4_data[\"Copies Sold\"] = raw_ps4_data[\"Copies Sold\"].apply(right_length)\n",
        "raw_ps4_data"
      ],
      "metadata": {
        "id": "G3aNBoC0YFCZ"
      },
      "execution_count": null,
      "outputs": []
    },
    {
      "cell_type": "code",
      "source": [
        "raw_ps4_data[\"Copies Sold\"].describe()"
      ],
      "metadata": {
        "id": "k088HiH5YHmq"
      },
      "execution_count": null,
      "outputs": []
    },
    {
      "cell_type": "markdown",
      "source": [
        "This shows that there are fewer games than the playstation 2, but more than the playstatio 3 by one copy. This also shows that the average is 5.7 million and the largest value is 20 million."
      ],
      "metadata": {
        "id": "VFwm25AeY7U2"
      }
    },
    {
      "cell_type": "code",
      "source": [
        "def right_length(d):\n",
        "    dif = len(d) - 4\n",
        "    for ch in d:\n",
        "        if len(d) > 4:\n",
        "            return int(d[dif:])\n",
        "        else:\n",
        "            return int(d)\n",
        "\n",
        "raw_ps4_data[\"Release Date\"] = raw_ps4_data[\"Release Date\"].apply(right_length)\n",
        "raw_ps4_data"
      ],
      "metadata": {
        "id": "4cx_2ao-YJts"
      },
      "execution_count": null,
      "outputs": []
    },
    {
      "cell_type": "code",
      "source": [
        "raw_ps4_data[\"Release Date\"].describe()"
      ],
      "metadata": {
        "id": "ZaIr4Cv8Y31k"
      },
      "execution_count": null,
      "outputs": []
    },
    {
      "cell_type": "markdown",
      "source": [
        "Descriptive statistics/analysis: This shows that the earliest year is 2013. This shows a year long overlap between the playstation 3 and the playstation 4. This is typical of console lifecycles. The latest date is 2021. The playstation 4 data ends at 2021, but it starts at the tail end of the playstation 3 lifecycle."
      ],
      "metadata": {
        "id": "g5fzr-J-Y5FF"
      }
    }
  ]
}