{
  "nbformat": 4,
  "nbformat_minor": 0,
  "metadata": {
    "colab": {
      "provenance": []
    },
    "kernelspec": {
      "name": "python3",
      "display_name": "Python 3"
    },
    "language_info": {
      "name": "python"
    }
  },
  "cells": [
    {
      "cell_type": "code",
      "execution_count": null,
      "metadata": {
        "id": "toTTGpJ6XI9u"
      },
      "outputs": [],
      "source": [
        "open_webpage = requests.get(\"https://en.wikipedia.org/wiki/List_of_best-selling_PlayStation_4_video_games\")\n",
        "print(\"Webpage Open\")\n",
        "print(open_webpage.content)\n",
        "\n",
        "bs = BeautifulSoup (open_webpage.content, \"html.parser\")\n",
        "print(\"Loaded and parsed\")"
      ]
    },
    {
      "cell_type": "code",
      "source": [
        "raw_data = []\n",
        "\n",
        "tables = bs.find_all(\"table\")\n",
        "\n",
        "for table in tables[1:]:\n",
        "  row_data = []\n",
        "  for row in table.find_all('tr'):\n",
        "    cells = row.find_all('td')\n",
        "    if len(cells) == 6:\n",
        "        row_data.append([cells[0].text.strip(),cells[1].text.strip(), cells[2].text.strip(), cells[3].text.strip(), cells[4].text.strip(), cells[5].text.strip()])\n",
        "  raw_data.append(row_data)\n",
        "\n",
        "clean_data = []\n",
        "\n",
        "for i in raw_data:\n",
        "  if len(i) > 0:\n",
        "    clean_data.append(i)\n",
        "print(clean_data)"
      ],
      "metadata": {
        "id": "VCFHnSixXNr-"
      },
      "execution_count": null,
      "outputs": []
    },
    {
      "cell_type": "code",
      "source": [
        "column_names = [\"Game\", \"Copies Sold\", \"Release Date\", \"Genres\", \"Developers\", \"Publishers\"]\n",
        "\n",
        "for ps4_data in clean_data:\n",
        "  ps4_row = []\n",
        "  for entry in ps4_data:\n",
        "    value = entry\n",
        "    ps4_row.append(entry)\n",
        "print(ps4_row)"
      ],
      "metadata": {
        "id": "bmLGwRHgXPQv"
      },
      "execution_count": null,
      "outputs": []
    },
    {
      "cell_type": "code",
      "source": [
        "raw_ps4_data = pd.DataFrame(ps4_row, columns = column_names)\n",
        "\n",
        "raw_ps4_data.head()"
      ],
      "metadata": {
        "id": "FM2ypnV9XRMA"
      },
      "execution_count": null,
      "outputs": []
    },
    {
      "cell_type": "code",
      "source": [
        "raw_ps4_data.to_csv(\"raw_ps4_data.csv\")"
      ],
      "metadata": {
        "id": "wIKqgpBmXTIr"
      },
      "execution_count": null,
      "outputs": []
    },
    {
      "cell_type": "code",
      "source": [
        "raw_ps4_data.info()"
      ],
      "metadata": {
        "id": "StEBgg-aXqdQ"
      },
      "execution_count": null,
      "outputs": []
    }
  ]
}