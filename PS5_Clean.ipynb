{
  "nbformat": 4,
  "nbformat_minor": 0,
  "metadata": {
    "colab": {
      "provenance": []
    },
    "kernelspec": {
      "name": "python3",
      "display_name": "Python 3"
    },
    "language_info": {
      "name": "python"
    }
  },
  "cells": [
    {
      "cell_type": "code",
      "execution_count": null,
      "metadata": {
        "id": "Y__2KHWeYnKS"
      },
      "outputs": [],
      "source": [
        "def clean(p):\n",
        "  avoid = [\"m\", \"i\", \"l\", \"o\", \"n\", \"[\", \"a\", \"b\", \"c\", \"d\", \"e\", \"f\", \"g\", \"h\", \"i\", \"j\",\"k\",\"l\",\"m\",\"n\",\"o\",\"p\",\"q\",\"r\",\"s\",\"t\",\"u\",\"v\",\"w\",\"x\",\"y\",\"z\"]\n",
        "  avoid_update = []\n",
        "  conv = \"\"\n",
        "  for ch in p[:-11]:\n",
        "    if ch in avoid:\n",
        "      avoid_update.append(ch)\n",
        "    else:\n",
        "      conv += ch\n",
        "  return float(conv)\n",
        "\n",
        "raw_ps5_data[\"Copies Sold\"] = raw_ps5_data[\"Copies Sold\"].apply(clean)\n",
        "raw_ps5_data"
      ]
    },
    {
      "cell_type": "code",
      "source": [
        "raw_ps5_data[\"Copies Sold\"].describe()"
      ],
      "metadata": {
        "id": "Cg7fz7MXYqyo"
      },
      "execution_count": null,
      "outputs": []
    },
    {
      "cell_type": "markdown",
      "source": [
        "Descriptive Statistics/Analysis:There are only 7 entries. The average of sales is 3.5 million, and the maximum is 11 million."
      ],
      "metadata": {
        "id": "U8MklMN0Yu_d"
      }
    },
    {
      "cell_type": "code",
      "source": [
        "def right_length(d):\n",
        "    dif = len(d) - 4\n",
        "    for ch in d:\n",
        "        if len(d) > 4:\n",
        "            return int(d[dif:])\n",
        "        else:\n",
        "            return int(d)\n",
        "\n",
        "raw_ps5_data[\"Release Date\"] = raw_ps5_data[\"Release Date\"].apply(right_length)\n",
        "raw_ps5_data"
      ],
      "metadata": {
        "id": "jT1XlUCTYsbg"
      },
      "execution_count": null,
      "outputs": []
    },
    {
      "cell_type": "code",
      "source": [
        "raw_ps5_data[\"Release Date\"].describe()"
      ],
      "metadata": {
        "id": "Flh11vPjZP8d"
      },
      "execution_count": null,
      "outputs": []
    },
    {
      "cell_type": "markdown",
      "source": [
        "Descriptive Statistics/Analysis: There is a year long overlap between the playstation 4 and the playstation 5. This is typical for console lifecycles. But the lifecycle of the playstation 5 is only 4 years, and in the 4 years has only produced 7 best selling games."
      ],
      "metadata": {
        "id": "Ig5r85fTZRLf"
      }
    }
  ]
}