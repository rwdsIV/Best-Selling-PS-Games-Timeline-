{
  "nbformat": 4,
  "nbformat_minor": 0,
  "metadata": {
    "colab": {
      "provenance": []
    },
    "kernelspec": {
      "name": "python3",
      "display_name": "Python 3"
    },
    "language_info": {
      "name": "python"
    }
  },
  "cells": [
    {
      "cell_type": "code",
      "execution_count": null,
      "metadata": {
        "id": "U0wTH3joZYD_"
      },
      "outputs": [],
      "source": [
        "df1 = pd.DataFrame(raw_ps2_data)\n",
        "df2 = pd.DataFrame(raw_ps3_data)\n",
        "df3 = pd.DataFrame(raw_ps4_data)\n",
        "df4 = pd.DataFrame(raw_ps5_data)\n",
        "\n",
        "newdf1 = df1.merge(df2, how = \"outer\")\n",
        "newdf2 = newdf1.merge(df3, how = \"outer\")\n",
        "pstimeline = newdf2.merge(df4, how = \"outer\")\n",
        "pstimeline"
      ]
    },
    {
      "cell_type": "markdown",
      "source": [
        "This takes all of the transformed data and converts it into a consolidated dataframe in alphabetical order. This collectivizes the data and places it all directly next to each other for plotting and comparison."
      ],
      "metadata": {
        "id": "QqyqkeEKZj1j"
      }
    },
    {
      "cell_type": "code",
      "source": [
        "pstimeline.describe()"
      ],
      "metadata": {
        "id": "HNm-5DnfZhwS"
      },
      "execution_count": null,
      "outputs": []
    },
    {
      "cell_type": "markdown",
      "source": [
        "Descriptive Statistics/Analysis: Overall, this shows that there are 251 items in the DataFrame, the year starts at 2000 and goes until 2024. The average is 3.2 million copies, and the average year is 2006. The standard deviation for sales is 3.6 million, and the standard deviation for the release date is 6 years."
      ],
      "metadata": {
        "id": "6JKBqPn7Zsb6"
      }
    },
    {
      "cell_type": "code",
      "source": [
        "pstimeline.to_csv(\"pstimeline_data.csv\")"
      ],
      "metadata": {
        "id": "cl-bKlpcZvxu"
      },
      "execution_count": null,
      "outputs": []
    },
    {
      "cell_type": "code",
      "source": [
        "from IPython.core.interactiveshell import InteractiveShell\n",
        "InteractiveShell.ast_node_interactivity = \"all\"\n",
        "\n",
        "pstimeline_df = pd.read_csv(\"pstimeline_data.csv\")\n",
        "\n",
        "pstimeline_df.head()"
      ],
      "metadata": {
        "id": "qsGm92_rZ1lH"
      },
      "execution_count": null,
      "outputs": []
    },
    {
      "cell_type": "code",
      "source": [
        "copies_sold.describe()"
      ],
      "metadata": {
        "id": "Y2rrqY0KZ_sb"
      },
      "execution_count": null,
      "outputs": []
    },
    {
      "cell_type": "markdown",
      "source": [
        "The range is [1.0, 29.52]. The average is 3.28 with a standard deviation of 3.62. Games sales are being largely skewed by the extensive difference between the two range points. While this shows that sales tend to be around 3.2 million, this is likely inaccurate to the average if the largest values were removed."
      ],
      "metadata": {
        "id": "jJAFmIuUaHyV"
      }
    },
    {
      "cell_type": "code",
      "source": [
        "copies_sold.hist(bins = 5)\n",
        "plt.xlabel(\"Copies Sold in Millions\")\n",
        "plt.ylabel(\"Distribution of Games in this Range\")"
      ],
      "metadata": {
        "id": "F6BFqH4-aJWf"
      },
      "execution_count": null,
      "outputs": []
    },
    {
      "cell_type": "markdown",
      "source": [
        "This is a much more accurate representation of what the distribution of games sales looks like. Most games fall in between 1 and 3 million. The largest outliers are represented as only making up a small portion of the data, but this is still representative of its influence. This also likely shows an emergent business model. Production over 20 games to sell millions, as opposed to producing a few games that will sell between 5 and 30 million copies."
      ],
      "metadata": {
        "id": "exxmqH-AaN2H"
      }
    },
    {
      "cell_type": "code",
      "source": [
        "column_names = pstimeline_df.columns\n",
        "print(column_names)\n",
        "\n",
        "release_date = pstimeline_df[\"Release Date\"]\n",
        "print(release_date)"
      ],
      "metadata": {
        "id": "Ozrb7F04aYGq"
      },
      "execution_count": null,
      "outputs": []
    },
    {
      "cell_type": "code",
      "source": [
        "release_date.hist(bins = len(copies_sold))\n",
        "plt.xlabel(\"Release Date in Years\")\n",
        "plt.ylabel(\"Games Produced\")"
      ],
      "metadata": {
        "id": "tbvFkaZpafaH"
      },
      "execution_count": null,
      "outputs": []
    },
    {
      "cell_type": "markdown",
      "source": [
        "This shows the inordinant gap between the playstation 2 lifecycle and the lifecycle of future console generations. The bulk of games production is in the range of 2002-2005, and it gradually tapers off until it barely registers on the map. This may be because of the technological overhaul of future consoles. Major gaming companies may attempt to adapt with the technology and, therefore, create more advanced and immersive games. However, this shows a drastic decrease in production because of the accommodations to the more advanced technology. This shows an interesting shift in business models for major gaming companies. Instead of producing multiple fairly cheap games, they are relying on a few large games to make profit. This is likely because producing games for increasingly advanced consoles is prohibitively expensive if attempting to keep up with the technology."
      ],
      "metadata": {
        "id": "YJZ4bjxZaiaF"
      }
    }
  ]
}